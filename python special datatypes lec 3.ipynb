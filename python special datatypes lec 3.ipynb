{
 "cells": [
  {
   "cell_type": "markdown",
   "id": "9d0c6862",
   "metadata": {},
   "source": [
    "## types of objects in python:\n",
    "    1.immutable objects\n",
    "    2.mutable objects\n",
    "    \n",
    "1.immutable objects:\n",
    "\n",
    "    1.int\n",
    "    2.float\n",
    "    3.string\n",
    "    4.bool\n",
    "    5.tuple\n",
    "    \n",
    "2.mutable objects:\n",
    "\n",
    "    1.list\n",
    "    2.set\n",
    "    3.dictionary\n",
    "    "
   ]
  },
  {
   "cell_type": "code",
   "execution_count": 1,
   "id": "360e25b1",
   "metadata": {},
   "outputs": [
    {
     "name": "stdout",
     "output_type": "stream",
     "text": [
      "[1, 2, 3, 4, 5]\n"
     ]
    }
   ],
   "source": [
    "#list should be included in the square brackets:\n",
    "my_list=[1,2,3,4,5]\n",
    "print(my_list)"
   ]
  },
  {
   "cell_type": "code",
   "execution_count": 2,
   "id": "92222ff2",
   "metadata": {},
   "outputs": [
    {
     "data": {
      "text/plain": [
       "list"
      ]
     },
     "execution_count": 2,
     "metadata": {},
     "output_type": "execute_result"
    }
   ],
   "source": [
    "type(my_list)"
   ]
  },
  {
   "cell_type": "code",
   "execution_count": 3,
   "id": "a1f90018",
   "metadata": {},
   "outputs": [],
   "source": [
    "#lists can have multiple data types"
   ]
  },
  {
   "cell_type": "code",
   "execution_count": 4,
   "id": "96d2cc38",
   "metadata": {},
   "outputs": [
    {
     "name": "stdout",
     "output_type": "stream",
     "text": [
      "[2, 3, 4, 5, 'english', True]\n"
     ]
    }
   ],
   "source": [
    "my_list=[2,3,4,5,\"english\",True]\n",
    "print(my_list)"
   ]
  },
  {
   "cell_type": "code",
   "execution_count": 5,
   "id": "989909e0",
   "metadata": {},
   "outputs": [],
   "source": [
    "#list are mutable---->changeble"
   ]
  },
  {
   "cell_type": "code",
   "execution_count": 7,
   "id": "f907edd6",
   "metadata": {},
   "outputs": [
    {
     "name": "stdout",
     "output_type": "stream",
     "text": [
      "[2, 3, 4, 5, 'english', True, 6]\n"
     ]
    }
   ],
   "source": [
    "#add to a list\n",
    "my_list=[2,3,4,5,\"english\",True]\n",
    "my_list.append(6)\n",
    "print(my_list)"
   ]
  },
  {
   "cell_type": "code",
   "execution_count": 8,
   "id": "c0705071",
   "metadata": {},
   "outputs": [
    {
     "name": "stdout",
     "output_type": "stream",
     "text": [
      "2\n"
     ]
    }
   ],
   "source": [
    "#print element of a list using there index\n",
    "print(my_list[0])"
   ]
  },
  {
   "cell_type": "code",
   "execution_count": 9,
   "id": "f0a46be4",
   "metadata": {},
   "outputs": [
    {
     "name": "stdout",
     "output_type": "stream",
     "text": [
      "5\n"
     ]
    }
   ],
   "source": [
    "print(my_list[3])"
   ]
  },
  {
   "cell_type": "code",
   "execution_count": 10,
   "id": "83ce39fd",
   "metadata": {},
   "outputs": [
    {
     "data": {
      "text/plain": [
       "[1, 2, 3, 4, 5, 6, 7, 8, 1, 2, 3]"
      ]
     },
     "execution_count": 10,
     "metadata": {},
     "output_type": "execute_result"
    }
   ],
   "source": [
    "#list allow to duplicate value\n",
    "list_1=[1,2,3,4,5,6,7,8,1,2,3]\n",
    "list_1"
   ]
  },
  {
   "cell_type": "code",
   "execution_count": 12,
   "id": "0b101690",
   "metadata": {},
   "outputs": [
    {
     "name": "stdout",
     "output_type": "stream",
     "text": [
      "11\n"
     ]
    }
   ],
   "source": [
    "print(len(list_1))"
   ]
  },
  {
   "cell_type": "code",
   "execution_count": 13,
   "id": "156722a2",
   "metadata": {},
   "outputs": [
    {
     "name": "stdout",
     "output_type": "stream",
     "text": [
      "[]\n"
     ]
    }
   ],
   "source": [
    "#initiating an empty list\n",
    "list_2=[]\n",
    "print(list_2)"
   ]
  },
  {
   "cell_type": "code",
   "execution_count": 14,
   "id": "ad75ca62",
   "metadata": {},
   "outputs": [],
   "source": [
    "list_2.append(5)"
   ]
  },
  {
   "cell_type": "code",
   "execution_count": 15,
   "id": "a85c58cd",
   "metadata": {},
   "outputs": [
    {
     "data": {
      "text/plain": [
       "[5]"
      ]
     },
     "execution_count": 15,
     "metadata": {},
     "output_type": "execute_result"
    }
   ],
   "source": [
    "list_2"
   ]
  },
  {
   "cell_type": "code",
   "execution_count": 16,
   "id": "b33802c8",
   "metadata": {},
   "outputs": [],
   "source": [
    "#delete the element\n",
    "list_2=[2, 3, 4, 5, 'english', True, 6]\n",
    "list_2\n",
    "del list_2[3]"
   ]
  },
  {
   "cell_type": "code",
   "execution_count": 17,
   "id": "716cf95d",
   "metadata": {},
   "outputs": [
    {
     "name": "stdout",
     "output_type": "stream",
     "text": [
      "[2, 3, 4, 'english', True, 6]\n"
     ]
    }
   ],
   "source": [
    "print(list_2)"
   ]
  },
  {
   "cell_type": "code",
   "execution_count": 19,
   "id": "fe0641fa",
   "metadata": {},
   "outputs": [],
   "source": [
    "#join two list\n",
    "list_3=[1,2,3,4,5,6]\n",
    "list_4=[7,8,9,2,3,4]\n",
    "list_5=list_3+list_4"
   ]
  },
  {
   "cell_type": "code",
   "execution_count": 20,
   "id": "15e21c39",
   "metadata": {},
   "outputs": [
    {
     "data": {
      "text/plain": [
       "[1, 2, 3, 4, 5, 6, 7, 8, 9, 2, 3, 4]"
      ]
     },
     "execution_count": 20,
     "metadata": {},
     "output_type": "execute_result"
    }
   ],
   "source": [
    "list_5"
   ]
  },
  {
   "cell_type": "markdown",
   "id": "25c45195",
   "metadata": {},
   "source": [
    "#### Tuple"
   ]
  },
  {
   "cell_type": "code",
   "execution_count": null,
   "id": "c38d14f5",
   "metadata": {},
   "outputs": [],
   "source": []
  }
 ],
 "metadata": {
  "kernelspec": {
   "display_name": "Python 3 (ipykernel)",
   "language": "python",
   "name": "python3"
  },
  "language_info": {
   "codemirror_mode": {
    "name": "ipython",
    "version": 3
   },
   "file_extension": ".py",
   "mimetype": "text/x-python",
   "name": "python",
   "nbconvert_exporter": "python",
   "pygments_lexer": "ipython3",
   "version": "3.9.12"
  }
 },
 "nbformat": 4,
 "nbformat_minor": 5
}
